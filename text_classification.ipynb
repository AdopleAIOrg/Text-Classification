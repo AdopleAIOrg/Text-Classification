{
  "nbformat": 4,
  "nbformat_minor": 0,
  "metadata": {
    "colab": {
      "provenance": [],
      "include_colab_link": true
    },
    "kernelspec": {
      "name": "python3",
      "display_name": "Python 3"
    },
    "language_info": {
      "name": "python"
    }
  },
  "cells": [
    {
      "cell_type": "markdown",
      "metadata": {
        "id": "view-in-github",
        "colab_type": "text"
      },
      "source": [
        "<a href=\"https://colab.research.google.com/github/AdopleAIOrg/Text-Classification/blob/main/text_classification.ipynb\" target=\"_parent\"><img src=\"https://colab.research.google.com/assets/colab-badge.svg\" alt=\"Open In Colab\"/></a>"
      ]
    },
    {
      "cell_type": "code",
      "execution_count": null,
      "metadata": {
        "id": "b1Y6cdTpgM8C"
      },
      "outputs": [],
      "source": [
        "!pip install -r requirements.txt"
      ]
    },
    {
      "cell_type": "code",
      "source": [
        "%%writefile app.py\n",
        "from transformers import pipeline\n",
        "import streamlit as st\n",
        "from typing import List, Dict\n",
        "\n",
        "class TextClassification:\n",
        "\n",
        "    def _classifying_sequence(self, sequence: str, candidate_labels: List[str]) -> Dict[str, List[float]]:\n",
        "\n",
        "        \"\"\"\n",
        "        Classifies the input sequence using the provided candidate labels.\n",
        "\n",
        "        Args:\n",
        "            sequence (str): The sentence to classify.\n",
        "            candidate_labels (List[str]): The related words in the sentence.\n",
        "\n",
        "        Returns:\n",
        "            dict: Classification results containing labels and scores.\n",
        "        \"\"\"\n",
        "\n",
        "        # Load the zero-shot classification pipeline using the Facebook BART model fine-tuned on MNLI dataset\n",
        "        classifier = pipeline(\"zero-shot-classification\", model=\"facebook/bart-large-mnli\")\n",
        "\n",
        "        # Perform zero-shot classification on the input sequence with the candidate labels\n",
        "        results = classifier(sequence, candidate_labels, multi_class=False)\n",
        "\n",
        "        # Return the classification results containing labels and scores\n",
        "        return results\n",
        "\n",
        "\n",
        "    def streamlit_interface(self):\n",
        "\n",
        "        \"\"\"\n",
        "        Streamlit interface for the Zero-Shot Text Classification App.\n",
        "        \"\"\"\n",
        "\n",
        "        # Set the title for the Streamlit app\n",
        "        st.title(\"Zero-Shot Text Classification App\")\n",
        "\n",
        "        # Create a form using Streamlit's form feature\n",
        "        with st.form(key='my_form'):\n",
        "            # Add a text area for the user to enter the sentence to classify\n",
        "            sequence = st.text_area(\"Enter the sentence to classify:\")\n",
        "\n",
        "            # Add a text input for the user to enter the related words in the sentence (comma-separated)\n",
        "            candidate_labels = st.text_input(\"Enter the related words in the sentence (comma-separated):\")\n",
        "\n",
        "            # Split the entered candidate labels into a list\n",
        "            candidate_labels = candidate_labels.split(\",\")\n",
        "\n",
        "            # Add a submit button to trigger the classification\n",
        "            submit_button = st.form_submit_button(label='Classify')\n",
        "\n",
        "        # Check if the submit button was clicked\n",
        "        if submit_button:\n",
        "            # Call the _classifying_sequence method to perform the classification\n",
        "            results = self._classifying_sequence(sequence, candidate_labels)\n",
        "\n",
        "            # Display the classification results\n",
        "            st.write(\"Classification Results:\")\n",
        "            for label, score in zip(results[\"labels\"], results[\"scores\"]):\n",
        "                st.write(f\"- {label} ({score:.2f})\")\n",
        "\n",
        "\n",
        "if __name__ == \"__main__\":\n",
        "\n",
        "    # Create an instance of the TextClassification class\n",
        "    text_classification = TextClassification()\n",
        "\n",
        "    # Call the streamlit_interface method to start the Streamlit app\n",
        "    text_classification.streamlit_interface()\n"
      ],
      "metadata": {
        "id": "bl2zQNNSuxgS"
      },
      "execution_count": null,
      "outputs": []
    },
    {
      "cell_type": "code",
      "source": [
        "!streamlit run app.py & npx localtunnel --port 8501"
      ],
      "metadata": {
        "id": "337rX77TpN-M"
      },
      "execution_count": null,
      "outputs": []
    }
  ]
}